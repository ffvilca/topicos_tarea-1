{
 "cells": [
  {
   "cell_type": "markdown",
   "metadata": {},
   "source": [
    "# Tarea 1 - EYP3407\n",
    "### Profesor: Mauricio Castro\n",
    "### Por: Javiera Valenzuela Soto y Francisca Vilca Sánchez"
   ]
  },
  {
   "cell_type": "markdown",
   "metadata": {},
   "source": [
    "## 1) Entropía\n",
    "Sea $Z$ una variable aleatoria con función de densidad dada por\n",
    "\n",
    "$$f(z |\\mu ,\\sigma^2,\\alpha) = \\frac{2}{\\sigma}\\phi(\\frac{z − \\mu}{\\sigma})\\Phi(\\alpha(\\frac{z − \\mu}{\\sigma})),z \\in \\mathbb{R},$$\n",
    "\n",
    "donde $\\phi(·)$ y $\\Phi(·)$ representan la función de densidad y la función distribución, respectivamente, de una variable aleatoria normal estándar. La notación utilizada para referirnos a la distribución de $Z$ seŕa $Z ∼ SN(\\mu,\\sigma^2,\\alpha)$. Note que cuando $\\alpha = 0, Z ∼ N(\\mu,\\sigma^2)$. Muestre\n",
    "que la entropía $H_{SN}(\\mu,\\sigma^2,\\alpha)$ de $Z$, está dada por \n",
    "\n",
    "$$H_{SN}(\\mu,\\sigma^2,\\alpha) = H_{N}(\\mu,\\sigma^2) − E_{X_0} [ln (2\\Phi(\\alpha X_0))] ,$$\n",
    "\n",
    "donde $X_0 ∼ SN(\\alpha)$ y $H_{N(\\mu,\\sigma^2)}$ es la entropía cuando $Z ∼ N(\\mu,\\sigma^2)$. Grafique la entropía $H_{SN}(\\mu=0,\\sigma^2=1,\\alpha)$ para diferentes una grilla de valores de α entre $−20$ y $20$. ¿Qué puede concluir de lo anterior?"
   ]
  },
  {
   "cell_type": "markdown",
   "metadata": {},
   "source": [
    "## Solución:\n",
    "\n",
    "Para comprobar que la Entropía de una Skew-normal (SN) se puede reescribir en términos de la Entropía de una Normal más la Esperanza de una variable aleatoria SN con $\\mu = 0 y \\sigma^2 = 1$, para ello nos guiaremos del árticulo \"*Shannon Entropy and mutual information for multivariate Skew-Elliptical distributions*\". Usando el Lema 1, de dicho árticulo es posible comprobar que la Entropía de una va $Z ~ N(\\mu,\\sigma^2) $ se puede reescribir como:\n",
    "\n",
    "\\begin{align*}\n",
    "H(Z) &= -E(log(f(Z))) \\\\\n",
    "&= -E(log ( \\frac{1}{\\sqrt{2\\pi\\sigma^2}} exp\\{ \\frac{1}{2}(\\frac{x-\\mu}{\\sigma^2})^2 \\} ) ) \\\\\n",
    "&= -E(log(\\sigma^{-1})) - E( (log(f(Z_0))) ) \\\\\n",
    "&= log(\\sigma) - H(Z_0)\n",
    "\\end{align*}\n",
    "\n",
    "Donde $Z_0 \\sim N(0,1)$, con este Lema y usando la definición de Entropía se puede obtener:\n",
    "\n",
    "\\begin{align*}\n",
    "H(Z) &= -E(log(f(Z))) \\\\\n",
    "&= log(\\sigma) - H(X_0) \\\\\n",
    "&= log(\\sigma) - E(log(2\\phi(X_0)\\Phi(\\alpha X_0)))\\\\\n",
    "&= log(\\sigma) - E(log(\\phi(X_0))) - E(log(2\\Phi(\\alpha X_0)))\\\\\n",
    "&= H(Z) - E( log(2 \\Phi (\\alpha X_0)) )\n",
    "\\end{align*}"
   ]
  },
  {
   "cell_type": "markdown",
   "metadata": {},
   "source": [
    "## 2) Sistemas de Recomendación a usar"
   ]
  },
  {
   "cell_type": "markdown",
   "metadata": {},
   "source": [
    "### (a) Descripción y objetivo del problema\n",
    "\n",
    "La dataset utilizada contiene la información sobre las preferencias y calificaciones de 73516 usuarios en 12294 animes categorizados según su género y tipo de anime...(bla bla bla). El objetivo de este trabajo consiste en realizar un sistema de recomendación del próximo anime para ver de posible interés en base a las calificaciones entregadas por cada usuario."
   ]
  },
  {
   "cell_type": "markdown",
   "metadata": {},
   "source": [
    "#### Análisis Exploratorio de los datos\n",
    "\n",
    "##### Limpieza de los datos"
   ]
  },
  {
   "cell_type": "markdown",
   "metadata": {},
   "source": [
    "Para comenzar, se realizó una limpieza inicial en los datos, para realizar el sistema de recomendación. Inicialmente"
   ]
  },
  {
   "cell_type": "code",
   "execution_count": 128,
   "metadata": {},
   "outputs": [
    {
     "data": {
      "text/html": [
       "<div>\n",
       "<style scoped>\n",
       "    .dataframe tbody tr th:only-of-type {\n",
       "        vertical-align: middle;\n",
       "    }\n",
       "\n",
       "    .dataframe tbody tr th {\n",
       "        vertical-align: top;\n",
       "    }\n",
       "\n",
       "    .dataframe thead th {\n",
       "        text-align: right;\n",
       "    }\n",
       "</style>\n",
       "<table border=\"1\" class=\"dataframe\">\n",
       "  <thead>\n",
       "    <tr style=\"text-align: right;\">\n",
       "      <th></th>\n",
       "      <th>anime_id</th>\n",
       "      <th>name</th>\n",
       "      <th>genre</th>\n",
       "      <th>type</th>\n",
       "      <th>episodes</th>\n",
       "      <th>rating</th>\n",
       "      <th>members</th>\n",
       "    </tr>\n",
       "  </thead>\n",
       "  <tbody>\n",
       "    <tr>\n",
       "      <th>0</th>\n",
       "      <td>32281</td>\n",
       "      <td>Kimi no Na wa.</td>\n",
       "      <td>Drama, Romance, School, Supernatural</td>\n",
       "      <td>Movie</td>\n",
       "      <td>1</td>\n",
       "      <td>9.37</td>\n",
       "      <td>200630</td>\n",
       "    </tr>\n",
       "    <tr>\n",
       "      <th>1</th>\n",
       "      <td>5114</td>\n",
       "      <td>Fullmetal Alchemist: Brotherhood</td>\n",
       "      <td>Action, Adventure, Drama, Fantasy, Magic, Mili...</td>\n",
       "      <td>TV</td>\n",
       "      <td>64</td>\n",
       "      <td>9.26</td>\n",
       "      <td>793665</td>\n",
       "    </tr>\n",
       "    <tr>\n",
       "      <th>2</th>\n",
       "      <td>28977</td>\n",
       "      <td>Gintama°</td>\n",
       "      <td>Action, Comedy, Historical, Parody, Samurai, S...</td>\n",
       "      <td>TV</td>\n",
       "      <td>51</td>\n",
       "      <td>9.25</td>\n",
       "      <td>114262</td>\n",
       "    </tr>\n",
       "    <tr>\n",
       "      <th>3</th>\n",
       "      <td>9253</td>\n",
       "      <td>Steins;Gate</td>\n",
       "      <td>Sci-Fi, Thriller</td>\n",
       "      <td>TV</td>\n",
       "      <td>24</td>\n",
       "      <td>9.17</td>\n",
       "      <td>673572</td>\n",
       "    </tr>\n",
       "    <tr>\n",
       "      <th>4</th>\n",
       "      <td>9969</td>\n",
       "      <td>Gintama&amp;#039;</td>\n",
       "      <td>Action, Comedy, Historical, Parody, Samurai, S...</td>\n",
       "      <td>TV</td>\n",
       "      <td>51</td>\n",
       "      <td>9.16</td>\n",
       "      <td>151266</td>\n",
       "    </tr>\n",
       "  </tbody>\n",
       "</table>\n",
       "</div>"
      ],
      "text/plain": [
       "   anime_id                              name  \\\n",
       "0     32281                    Kimi no Na wa.   \n",
       "1      5114  Fullmetal Alchemist: Brotherhood   \n",
       "2     28977                          Gintama°   \n",
       "3      9253                       Steins;Gate   \n",
       "4      9969                     Gintama&#039;   \n",
       "\n",
       "                                               genre   type episodes  rating  \\\n",
       "0               Drama, Romance, School, Supernatural  Movie        1    9.37   \n",
       "1  Action, Adventure, Drama, Fantasy, Magic, Mili...     TV       64    9.26   \n",
       "2  Action, Comedy, Historical, Parody, Samurai, S...     TV       51    9.25   \n",
       "3                                   Sci-Fi, Thriller     TV       24    9.17   \n",
       "4  Action, Comedy, Historical, Parody, Samurai, S...     TV       51    9.16   \n",
       "\n",
       "   members  \n",
       "0   200630  \n",
       "1   793665  \n",
       "2   114262  \n",
       "3   673572  \n",
       "4   151266  "
      ]
     },
     "metadata": {},
     "output_type": "display_data"
    },
    {
     "name": "stdout",
     "output_type": "stream",
     "text": [
      "Dimensiones: (12294, 7)\n"
     ]
    }
   ],
   "source": [
    "# Librerías a usar\n",
    "\n",
    "import seaborn as sns\n",
    "import pandas as pd\n",
    "import matplotlib.pyplot as plt\n",
    "data = pd.read_csv(\"anime.csv\")\n",
    "display(data.head())\n",
    "print(\"Dimensiones:\", data.shape)\n"
   ]
  },
  {
   "cell_type": "markdown",
   "metadata": {},
   "source": [
    "Procedemos a separar la columna de género por comas, para así tener la caracterización completa de cada anime. "
   ]
  },
  {
   "cell_type": "code",
   "execution_count": 129,
   "metadata": {},
   "outputs": [
    {
     "data": {
      "text/html": [
       "<div>\n",
       "<style scoped>\n",
       "    .dataframe tbody tr th:only-of-type {\n",
       "        vertical-align: middle;\n",
       "    }\n",
       "\n",
       "    .dataframe tbody tr th {\n",
       "        vertical-align: top;\n",
       "    }\n",
       "\n",
       "    .dataframe thead th {\n",
       "        text-align: right;\n",
       "    }\n",
       "</style>\n",
       "<table border=\"1\" class=\"dataframe\">\n",
       "  <thead>\n",
       "    <tr style=\"text-align: right;\">\n",
       "      <th></th>\n",
       "      <th>anime_id</th>\n",
       "      <th>name</th>\n",
       "      <th>type</th>\n",
       "      <th>episodes</th>\n",
       "      <th>rating</th>\n",
       "      <th>members</th>\n",
       "      <th>genero_1</th>\n",
       "      <th>genero_2</th>\n",
       "      <th>genero_3</th>\n",
       "      <th>genero_4</th>\n",
       "      <th>genero_5</th>\n",
       "      <th>genero_6</th>\n",
       "      <th>genero_7</th>\n",
       "      <th>genero_8</th>\n",
       "      <th>genero_9</th>\n",
       "      <th>genero_10</th>\n",
       "      <th>genero_11</th>\n",
       "      <th>genero_12</th>\n",
       "      <th>genero_13</th>\n",
       "    </tr>\n",
       "  </thead>\n",
       "  <tbody>\n",
       "    <tr>\n",
       "      <th>0</th>\n",
       "      <td>32281</td>\n",
       "      <td>Kimi no Na wa.</td>\n",
       "      <td>Movie</td>\n",
       "      <td>1</td>\n",
       "      <td>9.37</td>\n",
       "      <td>200630</td>\n",
       "      <td>Drama</td>\n",
       "      <td>Romance</td>\n",
       "      <td>School</td>\n",
       "      <td>Supernatural</td>\n",
       "      <td>None</td>\n",
       "      <td>None</td>\n",
       "      <td>None</td>\n",
       "      <td>None</td>\n",
       "      <td>None</td>\n",
       "      <td>None</td>\n",
       "      <td>None</td>\n",
       "      <td>None</td>\n",
       "      <td>None</td>\n",
       "    </tr>\n",
       "    <tr>\n",
       "      <th>1</th>\n",
       "      <td>5114</td>\n",
       "      <td>Fullmetal Alchemist: Brotherhood</td>\n",
       "      <td>TV</td>\n",
       "      <td>64</td>\n",
       "      <td>9.26</td>\n",
       "      <td>793665</td>\n",
       "      <td>Action</td>\n",
       "      <td>Adventure</td>\n",
       "      <td>Drama</td>\n",
       "      <td>Fantasy</td>\n",
       "      <td>Magic</td>\n",
       "      <td>Military</td>\n",
       "      <td>Shounen</td>\n",
       "      <td>None</td>\n",
       "      <td>None</td>\n",
       "      <td>None</td>\n",
       "      <td>None</td>\n",
       "      <td>None</td>\n",
       "      <td>None</td>\n",
       "    </tr>\n",
       "    <tr>\n",
       "      <th>2</th>\n",
       "      <td>28977</td>\n",
       "      <td>Gintama°</td>\n",
       "      <td>TV</td>\n",
       "      <td>51</td>\n",
       "      <td>9.25</td>\n",
       "      <td>114262</td>\n",
       "      <td>Action</td>\n",
       "      <td>Comedy</td>\n",
       "      <td>Historical</td>\n",
       "      <td>Parody</td>\n",
       "      <td>Samurai</td>\n",
       "      <td>Sci-Fi</td>\n",
       "      <td>Shounen</td>\n",
       "      <td>None</td>\n",
       "      <td>None</td>\n",
       "      <td>None</td>\n",
       "      <td>None</td>\n",
       "      <td>None</td>\n",
       "      <td>None</td>\n",
       "    </tr>\n",
       "    <tr>\n",
       "      <th>3</th>\n",
       "      <td>9253</td>\n",
       "      <td>Steins;Gate</td>\n",
       "      <td>TV</td>\n",
       "      <td>24</td>\n",
       "      <td>9.17</td>\n",
       "      <td>673572</td>\n",
       "      <td>Sci-Fi</td>\n",
       "      <td>Thriller</td>\n",
       "      <td>None</td>\n",
       "      <td>None</td>\n",
       "      <td>None</td>\n",
       "      <td>None</td>\n",
       "      <td>None</td>\n",
       "      <td>None</td>\n",
       "      <td>None</td>\n",
       "      <td>None</td>\n",
       "      <td>None</td>\n",
       "      <td>None</td>\n",
       "      <td>None</td>\n",
       "    </tr>\n",
       "    <tr>\n",
       "      <th>4</th>\n",
       "      <td>9969</td>\n",
       "      <td>Gintama&amp;#039;</td>\n",
       "      <td>TV</td>\n",
       "      <td>51</td>\n",
       "      <td>9.16</td>\n",
       "      <td>151266</td>\n",
       "      <td>Action</td>\n",
       "      <td>Comedy</td>\n",
       "      <td>Historical</td>\n",
       "      <td>Parody</td>\n",
       "      <td>Samurai</td>\n",
       "      <td>Sci-Fi</td>\n",
       "      <td>Shounen</td>\n",
       "      <td>None</td>\n",
       "      <td>None</td>\n",
       "      <td>None</td>\n",
       "      <td>None</td>\n",
       "      <td>None</td>\n",
       "      <td>None</td>\n",
       "    </tr>\n",
       "    <tr>\n",
       "      <th>...</th>\n",
       "      <td>...</td>\n",
       "      <td>...</td>\n",
       "      <td>...</td>\n",
       "      <td>...</td>\n",
       "      <td>...</td>\n",
       "      <td>...</td>\n",
       "      <td>...</td>\n",
       "      <td>...</td>\n",
       "      <td>...</td>\n",
       "      <td>...</td>\n",
       "      <td>...</td>\n",
       "      <td>...</td>\n",
       "      <td>...</td>\n",
       "      <td>...</td>\n",
       "      <td>...</td>\n",
       "      <td>...</td>\n",
       "      <td>...</td>\n",
       "      <td>...</td>\n",
       "      <td>...</td>\n",
       "    </tr>\n",
       "    <tr>\n",
       "      <th>12289</th>\n",
       "      <td>9316</td>\n",
       "      <td>Toushindai My Lover: Minami tai Mecha-Minami</td>\n",
       "      <td>OVA</td>\n",
       "      <td>1</td>\n",
       "      <td>4.15</td>\n",
       "      <td>211</td>\n",
       "      <td>Hentai</td>\n",
       "      <td>None</td>\n",
       "      <td>None</td>\n",
       "      <td>None</td>\n",
       "      <td>None</td>\n",
       "      <td>None</td>\n",
       "      <td>None</td>\n",
       "      <td>None</td>\n",
       "      <td>None</td>\n",
       "      <td>None</td>\n",
       "      <td>None</td>\n",
       "      <td>None</td>\n",
       "      <td>None</td>\n",
       "    </tr>\n",
       "    <tr>\n",
       "      <th>12290</th>\n",
       "      <td>5543</td>\n",
       "      <td>Under World</td>\n",
       "      <td>OVA</td>\n",
       "      <td>1</td>\n",
       "      <td>4.28</td>\n",
       "      <td>183</td>\n",
       "      <td>Hentai</td>\n",
       "      <td>None</td>\n",
       "      <td>None</td>\n",
       "      <td>None</td>\n",
       "      <td>None</td>\n",
       "      <td>None</td>\n",
       "      <td>None</td>\n",
       "      <td>None</td>\n",
       "      <td>None</td>\n",
       "      <td>None</td>\n",
       "      <td>None</td>\n",
       "      <td>None</td>\n",
       "      <td>None</td>\n",
       "    </tr>\n",
       "    <tr>\n",
       "      <th>12291</th>\n",
       "      <td>5621</td>\n",
       "      <td>Violence Gekiga David no Hoshi</td>\n",
       "      <td>OVA</td>\n",
       "      <td>4</td>\n",
       "      <td>4.88</td>\n",
       "      <td>219</td>\n",
       "      <td>Hentai</td>\n",
       "      <td>None</td>\n",
       "      <td>None</td>\n",
       "      <td>None</td>\n",
       "      <td>None</td>\n",
       "      <td>None</td>\n",
       "      <td>None</td>\n",
       "      <td>None</td>\n",
       "      <td>None</td>\n",
       "      <td>None</td>\n",
       "      <td>None</td>\n",
       "      <td>None</td>\n",
       "      <td>None</td>\n",
       "    </tr>\n",
       "    <tr>\n",
       "      <th>12292</th>\n",
       "      <td>6133</td>\n",
       "      <td>Violence Gekiga Shin David no Hoshi: Inma Dens...</td>\n",
       "      <td>OVA</td>\n",
       "      <td>1</td>\n",
       "      <td>4.98</td>\n",
       "      <td>175</td>\n",
       "      <td>Hentai</td>\n",
       "      <td>None</td>\n",
       "      <td>None</td>\n",
       "      <td>None</td>\n",
       "      <td>None</td>\n",
       "      <td>None</td>\n",
       "      <td>None</td>\n",
       "      <td>None</td>\n",
       "      <td>None</td>\n",
       "      <td>None</td>\n",
       "      <td>None</td>\n",
       "      <td>None</td>\n",
       "      <td>None</td>\n",
       "    </tr>\n",
       "    <tr>\n",
       "      <th>12293</th>\n",
       "      <td>26081</td>\n",
       "      <td>Yasuji no Pornorama: Yacchimae!!</td>\n",
       "      <td>Movie</td>\n",
       "      <td>1</td>\n",
       "      <td>5.46</td>\n",
       "      <td>142</td>\n",
       "      <td>Hentai</td>\n",
       "      <td>None</td>\n",
       "      <td>None</td>\n",
       "      <td>None</td>\n",
       "      <td>None</td>\n",
       "      <td>None</td>\n",
       "      <td>None</td>\n",
       "      <td>None</td>\n",
       "      <td>None</td>\n",
       "      <td>None</td>\n",
       "      <td>None</td>\n",
       "      <td>None</td>\n",
       "      <td>None</td>\n",
       "    </tr>\n",
       "  </tbody>\n",
       "</table>\n",
       "<p>12294 rows × 19 columns</p>\n",
       "</div>"
      ],
      "text/plain": [
       "       anime_id                                               name   type  \\\n",
       "0         32281                                     Kimi no Na wa.  Movie   \n",
       "1          5114                   Fullmetal Alchemist: Brotherhood     TV   \n",
       "2         28977                                           Gintama°     TV   \n",
       "3          9253                                        Steins;Gate     TV   \n",
       "4          9969                                      Gintama&#039;     TV   \n",
       "...         ...                                                ...    ...   \n",
       "12289      9316       Toushindai My Lover: Minami tai Mecha-Minami    OVA   \n",
       "12290      5543                                        Under World    OVA   \n",
       "12291      5621                     Violence Gekiga David no Hoshi    OVA   \n",
       "12292      6133  Violence Gekiga Shin David no Hoshi: Inma Dens...    OVA   \n",
       "12293     26081                   Yasuji no Pornorama: Yacchimae!!  Movie   \n",
       "\n",
       "      episodes  rating  members genero_1    genero_2     genero_3  \\\n",
       "0            1    9.37   200630    Drama     Romance       School   \n",
       "1           64    9.26   793665   Action   Adventure        Drama   \n",
       "2           51    9.25   114262   Action      Comedy   Historical   \n",
       "3           24    9.17   673572   Sci-Fi    Thriller         None   \n",
       "4           51    9.16   151266   Action      Comedy   Historical   \n",
       "...        ...     ...      ...      ...         ...          ...   \n",
       "12289        1    4.15      211   Hentai        None         None   \n",
       "12290        1    4.28      183   Hentai        None         None   \n",
       "12291        4    4.88      219   Hentai        None         None   \n",
       "12292        1    4.98      175   Hentai        None         None   \n",
       "12293        1    5.46      142   Hentai        None         None   \n",
       "\n",
       "            genero_4  genero_5   genero_6  genero_7 genero_8 genero_9  \\\n",
       "0       Supernatural      None       None      None     None     None   \n",
       "1            Fantasy     Magic   Military   Shounen     None     None   \n",
       "2             Parody   Samurai     Sci-Fi   Shounen     None     None   \n",
       "3               None      None       None      None     None     None   \n",
       "4             Parody   Samurai     Sci-Fi   Shounen     None     None   \n",
       "...              ...       ...        ...       ...      ...      ...   \n",
       "12289           None      None       None      None     None     None   \n",
       "12290           None      None       None      None     None     None   \n",
       "12291           None      None       None      None     None     None   \n",
       "12292           None      None       None      None     None     None   \n",
       "12293           None      None       None      None     None     None   \n",
       "\n",
       "      genero_10 genero_11 genero_12 genero_13  \n",
       "0          None      None      None      None  \n",
       "1          None      None      None      None  \n",
       "2          None      None      None      None  \n",
       "3          None      None      None      None  \n",
       "4          None      None      None      None  \n",
       "...         ...       ...       ...       ...  \n",
       "12289      None      None      None      None  \n",
       "12290      None      None      None      None  \n",
       "12291      None      None      None      None  \n",
       "12292      None      None      None      None  \n",
       "12293      None      None      None      None  \n",
       "\n",
       "[12294 rows x 19 columns]"
      ]
     },
     "execution_count": 129,
     "metadata": {},
     "output_type": "execute_result"
    }
   ],
   "source": [
    "genre= data[\"genre\"].str.split(',', expand=True)\n",
    "data = pd.concat([data, genre], axis=1)\n",
    "data.columns\n",
    "data.rename(columns={0:'genero_1', 1:'genero_2', 2:'genero_3', 3:'genero_4', \n",
    "4:'genero_5', 5:'genero_6',6:'genero_7',7:'genero_8',8:'genero_9',9:'genero_10',\n",
    "10:'genero_11',11:'genero_12',12:'genero_13'}, inplace=True)\n",
    "data.drop(['genre'], axis=1, inplace=True)\n",
    "data"
   ]
  },
  {
   "cell_type": "code",
   "execution_count": 124,
   "metadata": {},
   "outputs": [
    {
     "data": {
      "text/plain": [
       "array(['Movie', 'TV', 'OVA', 'Special', 'Music', 'ONA', nan], dtype=object)"
      ]
     },
     "execution_count": 124,
     "metadata": {},
     "output_type": "execute_result"
    }
   ],
   "source": [
    "data.type.unique()"
   ]
  },
  {
   "cell_type": "code",
   "execution_count": 125,
   "metadata": {},
   "outputs": [
    {
     "data": {
      "text/html": [
       "<div>\n",
       "<style scoped>\n",
       "    .dataframe tbody tr th:only-of-type {\n",
       "        vertical-align: middle;\n",
       "    }\n",
       "\n",
       "    .dataframe tbody tr th {\n",
       "        vertical-align: top;\n",
       "    }\n",
       "\n",
       "    .dataframe thead th {\n",
       "        text-align: right;\n",
       "    }\n",
       "</style>\n",
       "<table border=\"1\" class=\"dataframe\">\n",
       "  <thead>\n",
       "    <tr style=\"text-align: right;\">\n",
       "      <th></th>\n",
       "      <th>type</th>\n",
       "    </tr>\n",
       "    <tr>\n",
       "      <th>type</th>\n",
       "      <th></th>\n",
       "    </tr>\n",
       "  </thead>\n",
       "  <tbody>\n",
       "    <tr>\n",
       "      <th>Movie</th>\n",
       "      <td>2348</td>\n",
       "    </tr>\n",
       "    <tr>\n",
       "      <th>Music</th>\n",
       "      <td>488</td>\n",
       "    </tr>\n",
       "    <tr>\n",
       "      <th>ONA</th>\n",
       "      <td>659</td>\n",
       "    </tr>\n",
       "    <tr>\n",
       "      <th>OVA</th>\n",
       "      <td>3311</td>\n",
       "    </tr>\n",
       "    <tr>\n",
       "      <th>Special</th>\n",
       "      <td>1676</td>\n",
       "    </tr>\n",
       "    <tr>\n",
       "      <th>TV</th>\n",
       "      <td>3787</td>\n",
       "    </tr>\n",
       "  </tbody>\n",
       "</table>\n",
       "</div>"
      ],
      "text/plain": [
       "         type\n",
       "type         \n",
       "Movie    2348\n",
       "Music     488\n",
       "ONA       659\n",
       "OVA      3311\n",
       "Special  1676\n",
       "TV       3787"
      ]
     },
     "metadata": {},
     "output_type": "display_data"
    },
    {
     "data": {
      "text/plain": [
       "<Axes: xlabel='type'>"
      ]
     },
     "execution_count": 125,
     "metadata": {},
     "output_type": "execute_result"
    },
    {
     "data": {
      "image/png": "[encoded data removed]",
      "text/plain": [
       "<Figure size 640x480 with 1 Axes>"
      ]
     },
     "metadata": {},
     "output_type": "display_data"
    }
   ],
   "source": [
    "data_barplot = data.groupby([\"type\"]).agg({\"type\": \"count\"})\n",
    "display(data_barplot)\n",
    "data_barplot.plot(kind=\"bar\")"
   ]
  },
  {
   "cell_type": "markdown",
   "metadata": {},
   "source": [
    "Para la recomendación, nos centraremos en los tipos de anime que pertenezcan a la clasificación de \"TV\", \"Especial\" y \"OVA\", ya que son los elementos más similares entre sí y que pueden tener una continuación en la trama presentada por el anime. En cambio, las películas poseen una mayor duración y (bla bla bla)"
   ]
  },
  {
   "cell_type": "code",
   "execution_count": 113,
   "metadata": {},
   "outputs": [],
   "source": [
    "data.query('type == \"TV\" or type == \"OVA\" or type== \"Special\"', inplace=True)\n"
   ]
  },
  {
   "cell_type": "markdown",
   "metadata": {},
   "source": [
    "Se procedió a eliminar los valores faltantes de la columna rating ya que necesitamos esos datos para poder realizar la recomendación. Además, la cantidad total resultante no varió demasiado, si es que lo comparamos con la primera cantidad (poner bla bla más bonito)"
   ]
  },
  {
   "cell_type": "code",
   "execution_count": 114,
   "metadata": {},
   "outputs": [],
   "source": [
    "# Eliminamos los valores nulos de la columna rating\n",
    "data.dropna(subset=['rating'], inplace= True)\n",
    "# Se procede a realizar un histograma para asi ver como realizaremos la ponderación\n",
    "# de los ratings para el sistema de recomendación"
   ]
  },
  {
   "cell_type": "code",
   "execution_count": 115,
   "metadata": {},
   "outputs": [
    {
     "data": {
      "text/plain": [
       "array(['64', '51', '24', '10', '148', '110', '13', '201', '25', '22',\n",
       "       '75', '4', '26', '12', '27', '43', '74', '37', '2', '11', '1',\n",
       "       '99', 'emision', '39', '101', '47', '50', '62', '33', '112', '23',\n",
       "       '3', '94', '6', '8', '14', '7', '40', '15', '203', '77', '291',\n",
       "       '120', '102', '96', '38', '79', '175', '103', '70', '153', '45',\n",
       "       '5', '21', '63', '52', '28', '145', '36', '69', '60', '178', '114',\n",
       "       '35', '61', '34', '109', '9', '49', '366', '97', '78', '358',\n",
       "       '155', '20', '104', '113', '48', '54', '167', '161', '42', '142',\n",
       "       '31', '373', '220', '46', '195', '17', '1787', '73', '147', '127',\n",
       "       '16', '19', '98', '150', '76', '53', '124', '29', '115', '224',\n",
       "       '44', '58', '93', '154', '92', '67', '172', '86', '30', '276',\n",
       "       '59', '72', '330', '41', '105', '128', '137', '56', '55', '65',\n",
       "       '243', '193', '18', '191', '180', '91', '192', '66', '182', '32',\n",
       "       '164', '100', '296', '694', '95', '68', '117', '151', '130', '87',\n",
       "       '170', '119', '84', '108', '156', '140', '331', '305', '300',\n",
       "       '510', '200', '88', '1471', '526', '143', '726', '136', '1818',\n",
       "       '237', '1428', '365', '163', '283', '71', '260', '199', '225',\n",
       "       '312', '240', '1306', '1565', '773', '1274', '90', '475', '263',\n",
       "       '83', '85', '1006', '80', '162', '132', '141', '125'], dtype=object)"
      ]
     },
     "execution_count": 115,
     "metadata": {},
     "output_type": "execute_result"
    }
   ],
   "source": [
    "data.episodes.unique()\n",
    "data['episodes'].replace(\"Unknown\", \"emision\", inplace=True)\n",
    "data.episodes.unique()\n"
   ]
  },
  {
   "cell_type": "code",
   "execution_count": 116,
   "metadata": {},
   "outputs": [
    {
     "data": {
      "text/plain": [
       "Text(0.5, 1.0, 'Histograma de Rating - Anime')"
      ]
     },
     "execution_count": 116,
     "metadata": {},
     "output_type": "execute_result"
    },
    {
     "data": {
      "image/png": "[encoded data removed]",
      "text/plain": [
       "<Figure size 640x480 with 1 Axes>"
      ]
     },
     "metadata": {},
     "output_type": "display_data"
    }
   ],
   "source": [
    "sns.set(style=\"whitegrid\")  # Establece un estilo de fondo\n",
    "sns.histplot(data=data, x=\"rating\", bins=10, color='#E9967A', edgecolor='black', alpha=0.7, stat=\"density\")\n",
    "# Personalizar el aspecto del histograma\n",
    "plt.xlabel('Rating')\n",
    "plt.ylabel('Densidad')\n",
    "plt.title('Histograma de Rating - Anime')\n"
   ]
  },
  {
   "cell_type": "markdown",
   "metadata": {},
   "source": [
    "Vamos a contar los valores que son menores de 3, para ver la cantidad existente y decidir si eliminarlos o no\n"
   ]
  },
  {
   "cell_type": "code",
   "execution_count": 117,
   "metadata": {},
   "outputs": [
    {
     "name": "stdout",
     "output_type": "stream",
     "text": [
      "                          Recuento\n",
      "0   Animes con rating <3        13\n",
      "1  Animes con rating >=3      8614\n"
     ]
    }
   ],
   "source": [
    "# Definir condiciones\n",
    "condicion1 = (data[\"rating\"] <3)\n",
    "condicion2 = (data[\"rating\"] >= 3)\n",
    "titulo= \">=3\"\n",
    "titulo2= \"<3\"\n",
    "tabla = {\n",
    "    f'Animes con rating {titulo2}': sum(condicion1),\n",
    "    f'Animes con rating {titulo}': sum(condicion2)\n",
    "}\n",
    "\n",
    "# Procedemos a agrupar según esas variables\n",
    "tablita = pd.DataFrame(list(tabla.items()), columns=['', 'Recuento'])\n",
    "print(tablita)\n"
   ]
  },
  {
   "cell_type": "code",
   "execution_count": 120,
   "metadata": {},
   "outputs": [
    {
     "data": {
      "text/plain": [
       "Text(0.5, 1.0, 'Histograma de Rating - Anime')"
      ]
     },
     "execution_count": 120,
     "metadata": {},
     "output_type": "execute_result"
    },
    {
     "data": {
      "image/png": "[encoded data removed]",
      "text/plain": [
       "<Figure size 640x480 with 1 Axes>"
      ]
     },
     "metadata": {},
     "output_type": "display_data"
    }
   ],
   "source": [
    "data.query('rating >= 3', inplace=True)\n",
    "# Volvemos a graficar\n",
    "sns.set(style=\"whitegrid\")  # Establece un estilo de fondo\n",
    "sns.histplot(data=data, x=\"rating\", bins=5, color='#E9967A', edgecolor='black', alpha=0.7, stat=\"density\")\n",
    "# Personalizar el aspecto del histograma\n",
    "plt.xlabel('Rating')\n",
    "plt.ylabel('Densidad')\n",
    "plt.title('Histograma de Rating - Anime')\n"
   ]
  },
  {
   "cell_type": "code",
   "execution_count": null,
   "metadata": {},
   "outputs": [],
   "source": []
  },
  {
   "cell_type": "markdown",
   "metadata": {},
   "source": [
    "#### (c) Descripción del método utilizado"
   ]
  },
  {
   "cell_type": "markdown",
   "metadata": {},
   "source": [
    "#### (d) Implementación computacional"
   ]
  },
  {
   "cell_type": "markdown",
   "metadata": {},
   "source": [
    "#### (e) Resultados obtenidos"
   ]
  },
  {
   "cell_type": "markdown",
   "metadata": {},
   "source": [
    "#### (f) Medida de performance"
   ]
  },
  {
   "cell_type": "markdown",
   "metadata": {},
   "source": [
    "### Preguntas a Contestar:\n",
    "\n",
    "#### (a) ¿Cuál es en su opinión el mejor sistema de recomendación? Discutir\n",
    "#### (b) ¿Los métodos considerados son escalables? Comente"
   ]
  },
  {
   "cell_type": "markdown",
   "metadata": {},
   "source": [
    "## Bibliografía\n",
    "\n",
    "[1] Arellano-Valle, R. B., Contreras-Reyes, J. E., & Genton, M. G. (2012). Shannon Entropy and mutual information for multivariate Skew-Elliptical distributions. *Scandinavian Journal of Statistics*, 40(1), 42-62. https://doi.org/10.1111/j.1467-9469.2011.00774.x"
   ]
  }
 ],
 "metadata": {
  "kernelspec": {
   "display_name": "default",
   "language": "python",
   "name": "python3"
  },
  "language_info": {
   "codemirror_mode": {
    "name": "ipython",
    "version": 3
   },
   "file_extension": ".py",
   "mimetype": "text/x-python",
   "name": "python",
   "nbconvert_exporter": "python",
   "pygments_lexer": "ipython3",
   "version": "3.9.12"
  },
  "orig_nbformat": 4
 },
 "nbformat": 4,
 "nbformat_minor": 2
}
